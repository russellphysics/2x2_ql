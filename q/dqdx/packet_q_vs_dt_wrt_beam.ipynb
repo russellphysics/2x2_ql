{
 "cells": [
  {
   "cell_type": "code",
   "execution_count": 1,
   "id": "0dd5d986-2dcb-4ce1-9963-cd8f57854e50",
   "metadata": {},
   "outputs": [],
   "source": [
    "import h5py\n",
    "import numpy as np\n",
    "import glob\n",
    "import json\n",
    "from tqdm import tqdm\n",
    "import matplotlib.pyplot as plt\n",
    "from matplotlib.colors import LogNorm\n",
    "iogd={'1':[0,0],'2':[0,1],'3':[0,2],'4':[0,3],\n",
    "      '5':[1,0],'6':[1,1],'7':[1,2],'8':[1,3]}"
   ]
  },
  {
   "cell_type": "code",
   "execution_count": null,
   "id": "9e55abac-2861-48af-812a-9fb3e0d3a3e4",
   "metadata": {},
   "outputs": [],
   "source": [
    "filedir='/global/cfs/cdirs/dune/www/data/2x2/nearline/packet/beam/july10_2024/nominal_hv/'\n",
    "map_q_vs_beam_dt(filedir, ['0050018'], False, False)\n",
    "filedir='/global/cfs/cdirs/dune/www/data/2x2/nearline/packet/beam/july8_2024/nominal_hv/'\n",
    "map_q_vs_beam_dt(filedir, ['0050017'], False, False)\n",
    "filedir='/global/cfs/cdirs/dune/www/data/2x2/nearline/packet/beam/july7_2024/half_nominal_hv/'\n",
    "map_q_vs_beam_dt(filedir, ['0050011'], False, False)"
   ]
  },
  {
   "cell_type": "code",
   "execution_count": 3,
   "id": "bbd0d3aa-34f4-4bcf-8377-1dc853620e2e",
   "metadata": {},
   "outputs": [],
   "source": [
    "def map_q_vs_beam_dt(filedir, run_no, is_mc, plot_file):\n",
    "    \n",
    "    \n",
    "    \n",
    "    for filename in tqdm(glob.glob(filedir+'*.h5')):\n",
    "        if is_mc==False:\n",
    "            file_run_no=filename.split(\"/\")[-1].split(\"-\")[1]\n",
    "            if file_run_no not in run_no: continue\n",
    "            dt_string=filename.split(\"/\")[-1].split(\"-\")[2].split(\"_CDT\")[0]    \n",
    "\n",
    "        f = h5py.File(filename,'r')\n",
    "        packets=f['packets']\n",
    "        ext_mask=((packets['packet_type']==7)&(packets['io_group']==5))\n",
    "        exts=packets[ext_mask]\n",
    "        ext_idcs=np.argwhere(ext_mask).flatten()\n",
    "        message_groups = np.split(packets, ext_idcs)\n",
    "        \n",
    "        out={}\n",
    "        for i in range(1,9,1):\n",
    "            dumbx=[]; dumby=[]\n",
    "            n, xedge, yedge = np.histogram2d(dumbx, dumby, bins=[201,256], range=[[0,200],[0,256]] )\n",
    "            out[str(i)]=n\n",
    "        \n",
    "        for mg in message_groups:\n",
    "            trig_mask=((mg['packet_type']==7)&(mg['io_group']==5))\n",
    "            trig_timestamps=mg[trig_mask]['timestamp'] # LArPix MCLK\n",
    "            if len(trig_timestamps)==0: continue\n",
    "\n",
    "            for i in range(1,9,1):\n",
    "                data_mask=((mg['packet_type']==0)&(mg['valid_parity']==1)&(mg['io_group']==i))\n",
    "                timestamp_mask=((mg['timestamp']>=trig_timestamps[0])&(mg['timestamp']<=trig_timestamps[0]+2e3))\n",
    "                mask=np.logical_and(data_mask, timestamp_mask)\n",
    "                tpc_packets=mg[mask]\n",
    "                n, xedge, yedge = np.histogram2d([i-trig_timestamps[0] for i in tpc_packets['timestamp']], tpc_packets['dataword'], bins=[201,256], range=[[0,2000],[0,256]])\n",
    "                out[str(i)]+=n\n",
    "        f.close()\n",
    "        \n",
    "        if plot_file==True:\n",
    "            fig, ax = plt.subplots(nrows=2, ncols=4, figsize=(24,12))\n",
    "            for iog in out.keys():\n",
    "                x=[0]*300; y=[0]*300\n",
    "                for j in range(len(out[iog])):\n",
    "                    for k in range(len(out[iog][j])):\n",
    "                        if out[iog][j][k]==0: continue\n",
    "                        for l in range(int(out[iog][j][k])): x.append(j); y.append(k)\n",
    "                h = ax[iogd[iog][0]][iogd[iog][1]].hist2d(x,y, bins=[np.linspace(0,200,201), np.linspace(0,255,256)], norm=LogNorm())\n",
    "            fig.colorbar(h[3], ax=ax[iogd[iog][0]][iogd[iog][1]])\n",
    "            plt.show()\n",
    "        else:\n",
    "            for key in out.keys(): out[key]=out[key].tolist()\n",
    "            if is_mc==True:\n",
    "                with open('q_vs_dt_mc_'+file_run_no+'-'+dt_string+'.json','w') as outfile: json.dump(out, outfile, indent=4)\n",
    "            if is_mc==False:\n",
    "                with open('q_vs_dt_'+file_run_no+'-'+dt_string+'.json','w') as outfile: json.dump(out, outfile, indent=4)      "
   ]
  },
  {
   "cell_type": "code",
   "execution_count": null,
   "id": "46b6216d-68e5-4092-912c-c538e302b487",
   "metadata": {},
   "outputs": [],
   "source": []
  }
 ],
 "metadata": {
  "kernelspec": {
   "display_name": "NERSC Python",
   "language": "python",
   "name": "python3"
  },
  "language_info": {
   "codemirror_mode": {
    "name": "ipython",
    "version": 3
   },
   "file_extension": ".py",
   "mimetype": "text/x-python",
   "name": "python",
   "nbconvert_exporter": "python",
   "pygments_lexer": "ipython3",
   "version": "3.11.7"
  }
 },
 "nbformat": 4,
 "nbformat_minor": 5
}
